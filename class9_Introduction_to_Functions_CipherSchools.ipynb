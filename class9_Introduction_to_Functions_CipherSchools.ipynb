{
  "nbformat": 4,
  "nbformat_minor": 0,
  "metadata": {
    "colab": {
      "provenance": [],
      "authorship_tag": "ABX9TyN2NSboAXT/kOUiTW6oiJLr",
      "include_colab_link": true
    },
    "kernelspec": {
      "name": "python3",
      "display_name": "Python 3"
    },
    "language_info": {
      "name": "python"
    }
  },
  "cells": [
    {
      "cell_type": "markdown",
      "metadata": {
        "id": "view-in-github",
        "colab_type": "text"
      },
      "source": [
        "<a href=\"https://colab.research.google.com/github/whiteFANGjr07/Week2-PYTHON-CipherSchools/blob/main/class9_Introduction_to_Functions_CipherSchools.ipynb\" target=\"_parent\"><img src=\"https://colab.research.google.com/assets/colab-badge.svg\" alt=\"Open In Colab\"/></a>"
      ]
    },
    {
      "cell_type": "code",
      "execution_count": null,
      "metadata": {
        "id": "ndAPWMyH4VwS"
      },
      "outputs": [],
      "source": [
        "def show_loading():\n",
        "  for i in range(3):\n",
        "      print(\"loading\", \".\"+(i+1))\n"
      ]
    },
    {
      "cell_type": "markdown",
      "source": [
        "Functions can take parameters"
      ],
      "metadata": {
        "id": "Jy90n0AM_F_I"
      }
    },
    {
      "cell_type": "code",
      "source": [
        "def sheldon_knock(name):\n",
        "  for i in range(3):\n",
        "     print(\"knock knock knock\", name)\n",
        "sheldon_knock(\"leopard\")     \n"
      ],
      "metadata": {
        "colab": {
          "base_uri": "https://localhost:8080/"
        },
        "id": "4pDFCjlP_Mqi",
        "outputId": "b0821036-e850-4c97-b8ee-67fb975f5adb"
      },
      "execution_count": null,
      "outputs": [
        {
          "output_type": "stream",
          "name": "stdout",
          "text": [
            "knock knock knock leopard\n",
            "knock knock knock leopard\n",
            "knock knock knock leopard\n"
          ]
        }
      ]
    },
    {
      "cell_type": "code",
      "source": [
        "def sheldon_knock(name, times = 3):\n",
        "  for i in range(times):\n",
        "    print(\"knock knock knock\", name)\n",
        "sheldon_knock(\"penny\",12)   "
      ],
      "metadata": {
        "colab": {
          "base_uri": "https://localhost:8080/"
        },
        "id": "xkUtmXSRAU7x",
        "outputId": "3abbafab-153d-46fc-8243-12d10f3085bb"
      },
      "execution_count": null,
      "outputs": [
        {
          "output_type": "stream",
          "name": "stdout",
          "text": [
            "knock knock knock penny\n",
            "knock knock knock penny\n",
            "knock knock knock penny\n",
            "knock knock knock penny\n",
            "knock knock knock penny\n",
            "knock knock knock penny\n",
            "knock knock knock penny\n",
            "knock knock knock penny\n",
            "knock knock knock penny\n",
            "knock knock knock penny\n",
            "knock knock knock penny\n",
            "knock knock knock penny\n"
          ]
        }
      ]
    },
    {
      "cell_type": "markdown",
      "source": [
        "**Return statement**"
      ],
      "metadata": {
        "id": "chSFzevSBB28"
      }
    },
    {
      "cell_type": "code",
      "source": [
        "def add(a, b):\n",
        "  return a+b\n",
        "\n",
        "print(add(1, 2))\n"
      ],
      "metadata": {
        "colab": {
          "base_uri": "https://localhost:8080/"
        },
        "id": "M-YL45wCBHNk",
        "outputId": "56050236-5cc5-40e2-bcd1-64ad0695fffa"
      },
      "execution_count": null,
      "outputs": [
        {
          "output_type": "stream",
          "name": "stdout",
          "text": [
            "3\n"
          ]
        }
      ]
    }
  ]
}