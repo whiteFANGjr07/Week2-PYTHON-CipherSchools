{
  "nbformat": 4,
  "nbformat_minor": 0,
  "metadata": {
    "colab": {
      "provenance": [],
      "authorship_tag": "ABX9TyPB/68XwcJekzmVMhfLB99j",
      "include_colab_link": true
    },
    "kernelspec": {
      "name": "python3",
      "display_name": "Python 3"
    },
    "language_info": {
      "name": "python"
    }
  },
  "cells": [
    {
      "cell_type": "markdown",
      "metadata": {
        "id": "view-in-github",
        "colab_type": "text"
      },
      "source": [
        "<a href=\"https://colab.research.google.com/github/whiteFANGjr07/Week2-PYTHON-CipherSchools/blob/main/Class_13_Lists_in_Python_CipherSchools.ipynb\" target=\"_parent\"><img src=\"https://colab.research.google.com/assets/colab-badge.svg\" alt=\"Open In Colab\"/></a>"
      ]
    },
    {
      "cell_type": "code",
      "execution_count": null,
      "metadata": {
        "id": "YY4OzCmQuqzU"
      },
      "outputs": [],
      "source": []
    },
    {
      "cell_type": "markdown",
      "source": [
        "#1. Lists\n",
        "#A list is a data structure that holds an ordered collection of items i.e you can store a sequence of items in a list.\n",
        "\n",
        "#The list of items should be enclosed in square brackets so that python undersstands that u are specifying a list. once you\n",
        "#have created a list,you can add , remove or search for items in the list. since we can add and remove items, we say that a list \n",
        "#is a mutable data type.i.e this type can be altered."
      ],
      "metadata": {
        "id": "WYq5JsD8u2oI"
      }
    },
    {
      "cell_type": "code",
      "source": [
        "len([1,2,3,4])"
      ],
      "metadata": {
        "id": "WLhaysMYu4Fh"
      },
      "execution_count": null,
      "outputs": []
    },
    {
      "cell_type": "code",
      "source": [
        "\"jatin\" +\"kayal\"\n"
      ],
      "metadata": {
        "id": "O3lPD4RBu-X6"
      },
      "execution_count": null,
      "outputs": []
    },
    {
      "cell_type": "code",
      "source": [
        "[1,2,3]+[4,5,6]"
      ],
      "metadata": {
        "id": "2h3DKzbEvBo4"
      },
      "execution_count": null,
      "outputs": []
    },
    {
      "cell_type": "code",
      "source": [
        "\n",
        "[1]*4"
      ],
      "metadata": {
        "id": "DDjHxPm-vEqJ"
      },
      "execution_count": null,
      "outputs": []
    },
    {
      "cell_type": "code",
      "source": [
        "a=[1,2,3,4,5]\n",
        "for x in a:\n",
        "  print(x)"
      ],
      "metadata": {
        "id": "dVRwrwFxvGfb"
      },
      "execution_count": null,
      "outputs": []
    },
    {
      "cell_type": "code",
      "source": [
        "\"a\" in \"jatin\""
      ],
      "metadata": {
        "id": "eRU-ZxjMvIF0"
      },
      "execution_count": null,
      "outputs": []
    },
    {
      "cell_type": "code",
      "source": [
        "1 in[1,2,3,4]\n",
        "     "
      ],
      "metadata": {
        "id": "Y5twQLq_vJdR"
      },
      "execution_count": null,
      "outputs": []
    },
    {
      "cell_type": "markdown",
      "source": [
        "\n",
        "#Indexing and slicing"
      ],
      "metadata": {
        "id": "NnkShgrLvLuJ"
      }
    },
    {
      "cell_type": "code",
      "source": [
        "a = [1,2,3,4,5]"
      ],
      "metadata": {
        "id": "2QzB2YInvNvA"
      },
      "execution_count": null,
      "outputs": []
    },
    {
      "cell_type": "code",
      "source": [
        "a[-1]"
      ],
      "metadata": {
        "id": "1MAf2PhsvQWl"
      },
      "execution_count": null,
      "outputs": []
    },
    {
      "cell_type": "markdown",
      "source": [
        "#updating the list\n",
        "#.insert\n",
        "#.append"
      ],
      "metadata": {
        "id": "Sh7d9kb1vV3E"
      }
    },
    {
      "cell_type": "code",
      "source": [
        "a=[1,2,3]"
      ],
      "metadata": {
        "id": "MlLU1_E4vW80"
      },
      "execution_count": null,
      "outputs": []
    },
    {
      "cell_type": "code",
      "source": [
        "a.insert(0,100)"
      ],
      "metadata": {
        "id": "fERicxEjvaXq"
      },
      "execution_count": null,
      "outputs": []
    },
    {
      "cell_type": "code",
      "source": [
        "a.append(5)"
      ],
      "metadata": {
        "id": "aQLNK4ZjvcAn"
      },
      "execution_count": null,
      "outputs": []
    },
    {
      "cell_type": "code",
      "source": [
        "a"
      ],
      "metadata": {
        "id": "Dco6z3qTvd-G"
      },
      "execution_count": null,
      "outputs": []
    },
    {
      "cell_type": "markdown",
      "source": [
        "#Deleting list elements\n",
        "#del\n",
        "#pop\n",
        "#remove"
      ],
      "metadata": {
        "id": "AMmB2XrvvfKp"
      }
    },
    {
      "cell_type": "code",
      "source": [
        "a=[1,2,3,4]"
      ],
      "metadata": {
        "id": "sF4Aq3MNvg3v"
      },
      "execution_count": null,
      "outputs": []
    },
    {
      "cell_type": "code",
      "source": [
        "a.pop()"
      ],
      "metadata": {
        "id": "Lvtkd9b8vnUi"
      },
      "execution_count": null,
      "outputs": []
    },
    {
      "cell_type": "code",
      "source": [
        "a = [1, 2, 3, 4, 5]\n",
        "     \n",
        "\n",
        "a.pop(3)"
      ],
      "metadata": {
        "colab": {
          "base_uri": "https://localhost:8080/"
        },
        "id": "JJ79RQguvsTL",
        "outputId": "aa18933e-c855-49c8-8611-ad86fb4e25b8"
      },
      "execution_count": 2,
      "outputs": [
        {
          "output_type": "execute_result",
          "data": {
            "text/plain": [
              "4"
            ]
          },
          "metadata": {},
          "execution_count": 2
        }
      ]
    },
    {
      "cell_type": "code",
      "source": [
        "a\n"
      ],
      "metadata": {
        "id": "8sFPWAaUv-XA"
      },
      "execution_count": null,
      "outputs": []
    },
    {
      "cell_type": "code",
      "source": [],
      "metadata": {
        "id": "a-qtzQnCv_mB"
      },
      "execution_count": null,
      "outputs": []
    },
    {
      "cell_type": "code",
      "source": [
        "a=[1,2,3,4]\n",
        "     "
      ],
      "metadata": {
        "id": "UVqXYpCjwBdy"
      },
      "execution_count": null,
      "outputs": []
    },
    {
      "cell_type": "code",
      "source": [
        "a=[\"jatin\",\"samarth\",\"jatin\",\"shubham\"]\n",
        "     "
      ],
      "metadata": {
        "id": "5ETNwQypwDU4"
      },
      "execution_count": null,
      "outputs": []
    },
    {
      "cell_type": "code",
      "source": [
        "a.remove(\"jatin\")\n",
        "     "
      ],
      "metadata": {
        "id": "P4DPdY2lwFMJ"
      },
      "execution_count": null,
      "outputs": []
    },
    {
      "cell_type": "code",
      "source": [
        "a"
      ],
      "metadata": {
        "id": "DIqFTMRuwGpq"
      },
      "execution_count": null,
      "outputs": []
    },
    {
      "cell_type": "code",
      "source": [
        "a.remove(\"jatin\")"
      ],
      "metadata": {
        "colab": {
          "base_uri": "https://localhost:8080/",
          "height": 165
        },
        "id": "J6hFC_GTwHKf",
        "outputId": "2b65731a-112d-4bb5-f2d1-f2ff6915f4c0"
      },
      "execution_count": 3,
      "outputs": [
        {
          "output_type": "error",
          "ename": "ValueError",
          "evalue": "ignored",
          "traceback": [
            "\u001b[0;31m---------------------------------------------------------------------------\u001b[0m",
            "\u001b[0;31mValueError\u001b[0m                                Traceback (most recent call last)",
            "\u001b[0;32m<ipython-input-3-cbe38c98ff52>\u001b[0m in \u001b[0;36m<module>\u001b[0;34m\u001b[0m\n\u001b[0;32m----> 1\u001b[0;31m \u001b[0ma\u001b[0m\u001b[0;34m.\u001b[0m\u001b[0mremove\u001b[0m\u001b[0;34m(\u001b[0m\u001b[0;34m\"jatin\"\u001b[0m\u001b[0;34m)\u001b[0m\u001b[0;34m\u001b[0m\u001b[0;34m\u001b[0m\u001b[0m\n\u001b[0m",
            "\u001b[0;31mValueError\u001b[0m: list.remove(x): x not in list"
          ]
        }
      ]
    },
    {
      "cell_type": "code",
      "source": [
        "a"
      ],
      "metadata": {
        "id": "oNhhqpxewOTK"
      },
      "execution_count": null,
      "outputs": []
    },
    {
      "cell_type": "markdown",
      "source": [
        "#sorting and reversing\n",
        "#sort and sorted\n",
        "#reverse and reversed\n",
        "     "
      ],
      "metadata": {
        "id": "BD1zLRg3wQgV"
      }
    },
    {
      "cell_type": "code",
      "source": [
        "a=[4,1,3,2,6,4]\n",
        "a.sort()\n",
        "a"
      ],
      "metadata": {
        "colab": {
          "base_uri": "https://localhost:8080/"
        },
        "id": "JYaYz9DDwS-H",
        "outputId": "a2d4e21d-d180-46d1-8c26-45ff25902593"
      },
      "execution_count": 4,
      "outputs": [
        {
          "output_type": "execute_result",
          "data": {
            "text/plain": [
              "[1, 2, 3, 4, 4, 6]"
            ]
          },
          "metadata": {},
          "execution_count": 4
        }
      ]
    },
    {
      "cell_type": "code",
      "source": [
        "b=[4,1,3,2,6,4]\n",
        "     \n",
        "\n",
        "sorted(b)"
      ],
      "metadata": {
        "id": "h969bhE1wcDh"
      },
      "execution_count": null,
      "outputs": []
    },
    {
      "cell_type": "code",
      "source": [
        "b"
      ],
      "metadata": {
        "id": "0eIONVcoweQH"
      },
      "execution_count": null,
      "outputs": []
    },
    {
      "cell_type": "code",
      "source": [
        "a=[1,2,3,4,5]\n",
        "a.reverse()\n",
        "a"
      ],
      "metadata": {
        "id": "L959pLo2wfX7"
      },
      "execution_count": null,
      "outputs": []
    },
    {
      "cell_type": "code",
      "source": [
        "b=[1,2,3,4,5]\n",
        "     \n",
        "for x in reversed(b):\n",
        "  print(x)"
      ],
      "metadata": {
        "colab": {
          "base_uri": "https://localhost:8080/"
        },
        "id": "JZHhtztAwnKo",
        "outputId": "b7ba844f-e764-4d63-fd20-773092b1622e"
      },
      "execution_count": 5,
      "outputs": [
        {
          "output_type": "stream",
          "name": "stdout",
          "text": [
            "5\n",
            "4\n",
            "3\n",
            "2\n",
            "1\n"
          ]
        }
      ]
    },
    {
      "cell_type": "code",
      "source": [
        "b"
      ],
      "metadata": {
        "id": "9Ig7Qr5SwtmC"
      },
      "execution_count": null,
      "outputs": []
    },
    {
      "cell_type": "code",
      "source": [],
      "metadata": {
        "id": "oyMp8hFgwuXN"
      },
      "execution_count": null,
      "outputs": []
    },
    {
      "cell_type": "markdown",
      "source": [
        "#map,strip and aplit function"
      ],
      "metadata": {
        "id": "NzhRGx7ywuwh"
      }
    },
    {
      "cell_type": "code",
      "source": [
        "for i ,x in enumerate(a):\n",
        "  pass"
      ],
      "metadata": {
        "id": "UqPauV0lwxJS"
      },
      "execution_count": null,
      "outputs": []
    },
    {
      "cell_type": "code",
      "source": [
        "def sqr(x):\n",
        "  return x**2"
      ],
      "metadata": {
        "id": "fM1j8y2Ew7Au"
      },
      "execution_count": null,
      "outputs": []
    },
    {
      "cell_type": "code",
      "source": [
        "for x in map(lambda x: x**2,a):\n",
        "  print(x)"
      ],
      "metadata": {
        "colab": {
          "base_uri": "https://localhost:8080/"
        },
        "id": "yKYixXRzxA6K",
        "outputId": "fcecd00e-c0ee-4a87-98fb-7e96f2df0374"
      },
      "execution_count": 6,
      "outputs": [
        {
          "output_type": "stream",
          "name": "stdout",
          "text": [
            "1\n",
            "4\n",
            "9\n",
            "16\n",
            "16\n",
            "36\n"
          ]
        }
      ]
    },
    {
      "cell_type": "code",
      "source": [
        "int(\"1\")"
      ],
      "metadata": {
        "id": "2uaFjPhz1S7F"
      },
      "execution_count": null,
      "outputs": []
    },
    {
      "cell_type": "code",
      "source": [
        "a=list(map(int,input().split()))"
      ],
      "metadata": {
        "id": "C0O1P6bC1VMp"
      },
      "execution_count": null,
      "outputs": []
    },
    {
      "cell_type": "code",
      "source": [
        "a"
      ],
      "metadata": {
        "id": "TuAbFd4b1XBu"
      },
      "execution_count": null,
      "outputs": []
    },
    {
      "cell_type": "code",
      "source": [
        "a[0]"
      ],
      "metadata": {
        "id": "YKu7Dqws1bvj"
      },
      "execution_count": null,
      "outputs": []
    },
    {
      "cell_type": "code",
      "source": [],
      "metadata": {
        "id": "-s9-yHql1dkQ"
      },
      "execution_count": null,
      "outputs": []
    },
    {
      "cell_type": "markdown",
      "source": [
        "#printing a list using join"
      ],
      "metadata": {
        "id": "tPwmPDCj1eRv"
      }
    },
    {
      "cell_type": "code",
      "source": [
        "\",\".join([\"jatin\",\"samarth\",\"molly\"])"
      ],
      "metadata": {
        "id": "Mlnvk4F41gmW"
      },
      "execution_count": null,
      "outputs": []
    }
  ]
}