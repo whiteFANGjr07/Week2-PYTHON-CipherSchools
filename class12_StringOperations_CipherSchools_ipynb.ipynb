{
  "nbformat": 4,
  "nbformat_minor": 0,
  "metadata": {
    "colab": {
      "provenance": [],
      "authorship_tag": "ABX9TyOCw+3h74HXESxkDpfkKmRM",
      "include_colab_link": true
    },
    "kernelspec": {
      "name": "python3",
      "display_name": "Python 3"
    },
    "language_info": {
      "name": "python"
    }
  },
  "cells": [
    {
      "cell_type": "markdown",
      "metadata": {
        "id": "view-in-github",
        "colab_type": "text"
      },
      "source": [
        "<a href=\"https://colab.research.google.com/github/whiteFANGjr07/Week2-PYTHON-CipherSchools/blob/main/class12_StringOperations_CipherSchools_ipynb.ipynb\" target=\"_parent\"><img src=\"https://colab.research.google.com/assets/colab-badge.svg\" alt=\"Open In Colab\"/></a>"
      ]
    },
    {
      "cell_type": "code",
      "execution_count": null,
      "metadata": {
        "id": "g-vXnurUti-g"
      },
      "outputs": [],
      "source": []
    },
    {
      "cell_type": "markdown",
      "source": [
        "String formating or String Interpolation"
      ],
      "metadata": {
        "id": "jYUegTxztu5r"
      }
    },
    {
      "cell_type": "code",
      "source": [
        "a=5\n",
        "print(\"value of a is %d\" % (a))\n",
        "print(\"value of a is {} {}\".format(a,2))\n",
        "     "
      ],
      "metadata": {
        "id": "F9mXuVfBtxYH"
      },
      "execution_count": null,
      "outputs": []
    },
    {
      "cell_type": "code",
      "source": [
        "a , b ,c=1,2,3\n",
        "\"a={} , b={} ,c = {}  \".format(a , b , c)\n",
        "     "
      ],
      "metadata": {
        "id": "4vLPsPByt1Bo"
      },
      "execution_count": null,
      "outputs": []
    },
    {
      "cell_type": "code",
      "source": [
        "a , b ,c=1,2,3\n",
        "\"a={2} , b={1} ,c = {0} \".format(c , b , a)   #here Index value used"
      ],
      "metadata": {
        "id": "9sNlYGYHt4Xa"
      },
      "execution_count": null,
      "outputs": []
    },
    {
      "cell_type": "code",
      "source": [
        "name = \"Jatin Katyal\"\n",
        "company =\"Shuttl\"\n",
        "\"name = {name} company={company}\".format(name=name , company=company"
      ],
      "metadata": {
        "colab": {
          "base_uri": "https://localhost:8080/",
          "height": 130
        },
        "id": "DXot9U9-t6d_",
        "outputId": "49993836-8162-45df-dcce-998417ad773e"
      },
      "execution_count": 1,
      "outputs": [
        {
          "output_type": "error",
          "ename": "SyntaxError",
          "evalue": "ignored",
          "traceback": [
            "\u001b[0;36m  File \u001b[0;32m\"<ipython-input-1-65d38c687c13>\"\u001b[0;36m, line \u001b[0;32m3\u001b[0m\n\u001b[0;31m    \"name = {name} company={company}\".format(name=name , company=company\u001b[0m\n\u001b[0m                                                                        ^\u001b[0m\n\u001b[0;31mSyntaxError\u001b[0m\u001b[0;31m:\u001b[0m unexpected EOF while parsing\n"
          ]
        }
      ]
    },
    {
      "cell_type": "code",
      "source": [
        "name = \"Jatin Katyal\"\n",
        "company =\"Shuttl\"\n",
        "\"hello i am {name} and i am working in {company}\".format(name=name , c"
      ],
      "metadata": {
        "colab": {
          "base_uri": "https://localhost:8080/",
          "height": 130
        },
        "id": "bcE-EqbOuAKr",
        "outputId": "a2c5b3a0-5e55-4a19-c974-e5c68132e939"
      },
      "execution_count": 2,
      "outputs": [
        {
          "output_type": "error",
          "ename": "SyntaxError",
          "evalue": "ignored",
          "traceback": [
            "\u001b[0;36m  File \u001b[0;32m\"<ipython-input-2-4e4ef2f663da>\"\u001b[0;36m, line \u001b[0;32m3\u001b[0m\n\u001b[0;31m    \"hello i am {name} and i am working in {company}\".format(name=name , c\u001b[0m\n\u001b[0m                                                                          ^\u001b[0m\n\u001b[0;31mSyntaxError\u001b[0m\u001b[0;31m:\u001b[0m unexpected EOF while parsing\n"
          ]
        }
      ]
    },
    {
      "cell_type": "code",
      "source": [
        "print(f\"name=()\")"
      ],
      "metadata": {
        "id": "whwNMPviuBpP"
      },
      "execution_count": null,
      "outputs": []
    },
    {
      "cell_type": "code",
      "source": [
        "\n",
        "print(\"name={name}\")"
      ],
      "metadata": {
        "id": "imACcKzruEZF"
      },
      "execution_count": null,
      "outputs": []
    },
    {
      "cell_type": "code",
      "source": [
        "print(f\"name={name}\")\n"
      ],
      "metadata": {
        "colab": {
          "base_uri": "https://localhost:8080/",
          "height": 165
        },
        "id": "3fRyT3ZCuKaU",
        "outputId": "f5432aa4-b386-4062-f3f1-308a12e58523"
      },
      "execution_count": 3,
      "outputs": [
        {
          "output_type": "error",
          "ename": "NameError",
          "evalue": "ignored",
          "traceback": [
            "\u001b[0;31m---------------------------------------------------------------------------\u001b[0m",
            "\u001b[0;31mNameError\u001b[0m                                 Traceback (most recent call last)",
            "\u001b[0;32m<ipython-input-3-eb8446682c24>\u001b[0m in \u001b[0;36m<module>\u001b[0;34m\u001b[0m\n\u001b[0;32m----> 1\u001b[0;31m \u001b[0mprint\u001b[0m\u001b[0;34m(\u001b[0m\u001b[0;34mf\"name={name}\"\u001b[0m\u001b[0;34m)\u001b[0m\u001b[0;34m\u001b[0m\u001b[0;34m\u001b[0m\u001b[0m\n\u001b[0m",
            "\u001b[0;31mNameError\u001b[0m: name 'name' is not defined"
          ]
        }
      ]
    },
    {
      "cell_type": "code",
      "source": [
        "print(f\"name={1+2}\")\n",
        "     "
      ],
      "metadata": {
        "id": "UDtAEtnuuSib"
      },
      "execution_count": null,
      "outputs": []
    },
    {
      "cell_type": "code",
      "source": [
        "print(f\"name={10/3}\")"
      ],
      "metadata": {
        "id": "MhPyAT3huVY6"
      },
      "execution_count": null,
      "outputs": []
    },
    {
      "cell_type": "code",
      "source": [
        "len(r\"a\\nb\")"
      ],
      "metadata": {
        "id": "E4ICoEYGuYZU"
      },
      "execution_count": null,
      "outputs": []
    },
    {
      "cell_type": "code",
      "source": [
        "for c in r\"a\\nb\":\n",
        "  print(c)"
      ],
      "metadata": {
        "id": "mg4WNxzruZ2y"
      },
      "execution_count": null,
      "outputs": []
    },
    {
      "cell_type": "code",
      "source": [
        "\"    jatin         \".strip()"
      ],
      "metadata": {
        "id": "obxqIfRyub62"
      },
      "execution_count": null,
      "outputs": []
    },
    {
      "cell_type": "code",
      "source": [
        "\"1 , 2 , 3 , 4, 5\".split(\",\")"
      ],
      "metadata": {
        "id": "Aj2sK_axudXp"
      },
      "execution_count": null,
      "outputs": []
    },
    {
      "cell_type": "code",
      "source": [
        "\n",
        "\"jatin Katyal\".replace(\"a\",\"z\")"
      ],
      "metadata": {
        "id": "cGl32DDhufY_"
      },
      "execution_count": null,
      "outputs": []
    },
    {
      "cell_type": "code",
      "source": [
        "\n",
        "\"jatin katyal\".count(\"a\")"
      ],
      "metadata": {
        "id": "jdWfzc9Wunko"
      },
      "execution_count": null,
      "outputs": []
    }
  ]
}