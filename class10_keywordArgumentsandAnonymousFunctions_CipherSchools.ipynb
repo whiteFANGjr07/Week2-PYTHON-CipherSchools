{
  "nbformat": 4,
  "nbformat_minor": 0,
  "metadata": {
    "colab": {
      "provenance": [],
      "authorship_tag": "ABX9TyMV2Gq9+1l+L2dOrMgbS7LX",
      "include_colab_link": true
    },
    "kernelspec": {
      "name": "python3",
      "display_name": "Python 3"
    },
    "language_info": {
      "name": "python"
    }
  },
  "cells": [
    {
      "cell_type": "markdown",
      "metadata": {
        "id": "view-in-github",
        "colab_type": "text"
      },
      "source": [
        "<a href=\"https://colab.research.google.com/github/whiteFANGjr07/Week2-PYTHON-CipherSchools/blob/main/class10_keywordArgumentsandAnonymousFunctions_CipherSchools.ipynb\" target=\"_parent\"><img src=\"https://colab.research.google.com/assets/colab-badge.svg\" alt=\"Open In Colab\"/></a>"
      ]
    },
    {
      "cell_type": "code",
      "execution_count": null,
      "metadata": {
        "id": "fAvV0TINoN0M"
      },
      "outputs": [],
      "source": [
        "def func(a , b=5 , c=10):\n",
        "  print(\"a is\", a,'and b is ',b,'and c is ',c)\n",
        "func(3,7)\n",
        "func(25 ,c=24)\n",
        "func(c=50 ,a=100)"
      ]
    },
    {
      "cell_type": "code",
      "source": [
        "print(1,2,3,4,5,6,sep=\",\")"
      ],
      "metadata": {
        "id": "cS1i0HaTofXP"
      },
      "execution_count": null,
      "outputs": []
    },
    {
      "cell_type": "code",
      "source": [
        "def func(a,b,c):\n",
        "  print(a)\n",
        "  print(b)\n",
        "  print(c)\n",
        "func(1,2,3)"
      ],
      "metadata": {
        "id": "WOGdxkSjoiXG"
      },
      "execution_count": null,
      "outputs": []
    },
    {
      "cell_type": "code",
      "source": [
        "func(b=2,c=3,a=1)"
      ],
      "metadata": {
        "id": "atyssoT7oknc"
      },
      "execution_count": null,
      "outputs": []
    },
    {
      "cell_type": "code",
      "source": [
        "def func():\n",
        "  print(\"hello\")\n"
      ],
      "metadata": {
        "id": "Z_8gR_WZonxm"
      },
      "execution_count": null,
      "outputs": []
    },
    {
      "cell_type": "code",
      "source": [
        "def func(a):\n",
        "  print(a)\n",
        "     "
      ],
      "metadata": {
        "id": "MY2BdnfAoplD"
      },
      "execution_count": null,
      "outputs": []
    },
    {
      "cell_type": "code",
      "source": [
        "func()\n",
        "func(1)"
      ],
      "metadata": {
        "colab": {
          "base_uri": "https://localhost:8080/",
          "height": 182
        },
        "id": "XZY5_cc9orv_",
        "outputId": "7c2416bf-16aa-4ef1-c2ff-b62b09f65e3b"
      },
      "execution_count": 1,
      "outputs": [
        {
          "output_type": "error",
          "ename": "NameError",
          "evalue": "ignored",
          "traceback": [
            "\u001b[0;31m---------------------------------------------------------------------------\u001b[0m",
            "\u001b[0;31mNameError\u001b[0m                                 Traceback (most recent call last)",
            "\u001b[0;32m<ipython-input-1-d118ff648ae4>\u001b[0m in \u001b[0;36m<module>\u001b[0;34m\u001b[0m\n\u001b[0;32m----> 1\u001b[0;31m \u001b[0mfunc\u001b[0m\u001b[0;34m(\u001b[0m\u001b[0;34m)\u001b[0m\u001b[0;34m\u001b[0m\u001b[0;34m\u001b[0m\u001b[0m\n\u001b[0m\u001b[1;32m      2\u001b[0m \u001b[0mfunc\u001b[0m\u001b[0;34m(\u001b[0m\u001b[0;36m1\u001b[0m\u001b[0;34m)\u001b[0m\u001b[0;34m\u001b[0m\u001b[0;34m\u001b[0m\u001b[0m\n",
            "\u001b[0;31mNameError\u001b[0m: name 'func' is not defined"
          ]
        }
      ]
    },
    {
      "cell_type": "markdown",
      "source": [
        "#hello\n"
      ],
      "metadata": {
        "id": "ejmZdwPoov_M"
      }
    },
    {
      "cell_type": "code",
      "source": [
        "def hello():\n",
        "  print(\"hello world !\")\n",
        "a=1\n",
        "a=hello\n",
        "a()"
      ],
      "metadata": {
        "id": "40ecQKOXoyrx"
      },
      "execution_count": null,
      "outputs": []
    },
    {
      "cell_type": "code",
      "source": [
        "type(hello)"
      ],
      "metadata": {
        "id": "5R5KyLoBo3uE"
      },
      "execution_count": null,
      "outputs": []
    },
    {
      "cell_type": "code",
      "source": [
        "hello =2\n",
        "print(hello)"
      ],
      "metadata": {
        "id": "wKMriHfspAR9"
      },
      "execution_count": null,
      "outputs": []
    },
    {
      "cell_type": "code",
      "source": [
        "hello =2\n",
        "print(hello)"
      ],
      "metadata": {
        "id": "3aZkqMR2pDVs"
      },
      "execution_count": null,
      "outputs": []
    },
    {
      "cell_type": "code",
      "source": [
        "def func(a,b=10 ,c):\n",
        "  print(a,b,c)"
      ],
      "metadata": {
        "colab": {
          "base_uri": "https://localhost:8080/",
          "height": 130
        },
        "id": "umcgqeIhpFbi",
        "outputId": "5b0f734b-3e26-483e-8c5f-59d7dcbc3d9b"
      },
      "execution_count": 2,
      "outputs": [
        {
          "output_type": "error",
          "ename": "SyntaxError",
          "evalue": "ignored",
          "traceback": [
            "\u001b[0;36m  File \u001b[0;32m\"<ipython-input-2-b7c592c53b28>\"\u001b[0;36m, line \u001b[0;32m1\u001b[0m\n\u001b[0;31m    def func(a,b=10 ,c):\u001b[0m\n\u001b[0m             ^\u001b[0m\n\u001b[0;31mSyntaxError\u001b[0m\u001b[0;31m:\u001b[0m non-default argument follows default argument\n"
          ]
        }
      ]
    },
    {
      "cell_type": "markdown",
      "source": [
        "# Arguments in other language\n",
        "\n",
        "# Required arguments 'func(a)'\n",
        "#  Default argument 'func(b=1)'\n",
        "\n",
        "# Argument in python\n",
        "\n",
        "# Required arguments\n",
        "# Default arguments\n",
        "# Optional positional only arguments\n",
        "# Required keyworded only argumentrd\n",
        "# Default keyworded only arguments\n",
        "# Optional keyworded only arguments\n",
        "     "
      ],
      "metadata": {
        "id": "bJZGCu0TpJft"
      }
    },
    {
      "cell_type": "code",
      "source": [
        "\n",
        "def func(a=1 , b=2):\n",
        "  print(a,b)\n",
        "func()\n",
        "func(1)\n",
        "func(3,4)"
      ],
      "metadata": {
        "id": "w1oNrM_7pN5F"
      },
      "execution_count": null,
      "outputs": []
    },
    {
      "cell_type": "code",
      "source": [
        "def func(*a):\n",
        "  print(a)\n",
        "func(1,2,3,4)\n",
        "     "
      ],
      "metadata": {
        "id": "DkQGgmxTpQEs"
      },
      "execution_count": null,
      "outputs": []
    },
    {
      "cell_type": "code",
      "source": [
        "def func(a,b, *c):\n",
        "  print(a)\n",
        "  print(b)\n",
        "  print(c)\n",
        "func(1,2,3,4,\"jatin \",8)"
      ],
      "metadata": {
        "id": "xNZAjPKEpSXE"
      },
      "execution_count": null,
      "outputs": []
    },
    {
      "cell_type": "code",
      "source": [
        "def func(a,b,*c,d):\n",
        "  print(a)\n",
        "  print(b)\n",
        "  print(c)\n",
        "  print(d)\n",
        "func(1,2,3,4,5,6,6,7,8,9,6,4)"
      ],
      "metadata": {
        "colab": {
          "base_uri": "https://localhost:8080/",
          "height": 200
        },
        "id": "OMxnH-A4pWRE",
        "outputId": "28791885-b2a9-4eea-cabe-09423f64e021"
      },
      "execution_count": 3,
      "outputs": [
        {
          "output_type": "error",
          "ename": "TypeError",
          "evalue": "ignored",
          "traceback": [
            "\u001b[0;31m---------------------------------------------------------------------------\u001b[0m",
            "\u001b[0;31mTypeError\u001b[0m                                 Traceback (most recent call last)",
            "\u001b[0;32m<ipython-input-3-f3759c3a296e>\u001b[0m in \u001b[0;36m<module>\u001b[0;34m\u001b[0m\n\u001b[1;32m      4\u001b[0m   \u001b[0mprint\u001b[0m\u001b[0;34m(\u001b[0m\u001b[0mc\u001b[0m\u001b[0;34m)\u001b[0m\u001b[0;34m\u001b[0m\u001b[0;34m\u001b[0m\u001b[0m\n\u001b[1;32m      5\u001b[0m   \u001b[0mprint\u001b[0m\u001b[0;34m(\u001b[0m\u001b[0md\u001b[0m\u001b[0;34m)\u001b[0m\u001b[0;34m\u001b[0m\u001b[0;34m\u001b[0m\u001b[0m\n\u001b[0;32m----> 6\u001b[0;31m \u001b[0mfunc\u001b[0m\u001b[0;34m(\u001b[0m\u001b[0;36m1\u001b[0m\u001b[0;34m,\u001b[0m\u001b[0;36m2\u001b[0m\u001b[0;34m,\u001b[0m\u001b[0;36m3\u001b[0m\u001b[0;34m,\u001b[0m\u001b[0;36m4\u001b[0m\u001b[0;34m,\u001b[0m\u001b[0;36m5\u001b[0m\u001b[0;34m,\u001b[0m\u001b[0;36m6\u001b[0m\u001b[0;34m,\u001b[0m\u001b[0;36m6\u001b[0m\u001b[0;34m,\u001b[0m\u001b[0;36m7\u001b[0m\u001b[0;34m,\u001b[0m\u001b[0;36m8\u001b[0m\u001b[0;34m,\u001b[0m\u001b[0;36m9\u001b[0m\u001b[0;34m,\u001b[0m\u001b[0;36m6\u001b[0m\u001b[0;34m,\u001b[0m\u001b[0;36m4\u001b[0m\u001b[0;34m)\u001b[0m\u001b[0;34m\u001b[0m\u001b[0;34m\u001b[0m\u001b[0m\n\u001b[0m",
            "\u001b[0;31mTypeError\u001b[0m: func() missing 1 required keyword-only argument: 'd'"
          ]
        }
      ]
    },
    {
      "cell_type": "code",
      "source": [
        "def func(a,b,*c,d):\n",
        "  print(a)\n",
        "  print(b)\n",
        "  print(c)\n",
        "  print(d)\n",
        "func(1,2,3,4,5,6,6,7,8,9,6,d=4)"
      ],
      "metadata": {
        "id": "qwSYUkuUpXvD"
      },
      "execution_count": null,
      "outputs": []
    },
    {
      "cell_type": "code",
      "source": [
        "def func(a,b,*c,d,e=\"jatin\"):\n",
        "  print(a)\n",
        "  print(b)\n",
        "  print(c)\n",
        "  print(d)\n",
        "  print(e)\n",
        "func(1,2,3,4,5,6,d=\"some\""
      ],
      "metadata": {
        "id": "L-Z5FtAnpa-M"
      },
      "execution_count": null,
      "outputs": []
    },
    {
      "cell_type": "code",
      "source": [
        "def func(a,b,*c,d,e=\"jatin\"):\n",
        "  print(a)\n",
        "  print(b)\n",
        "  print(c)\n",
        "  print(d)\n",
        "  print(e)\n",
        "func(1,2,3,4,5,6,d=\"some\",e=\"asdf\")"
      ],
      "metadata": {
        "id": "2WglZVxmpdxT"
      },
      "execution_count": null,
      "outputs": []
    },
    {
      "cell_type": "code",
      "source": [
        "def func(**k):\n",
        "  print(k)\n",
        "func(name=\"keratin\")"
      ],
      "metadata": {
        "id": "qI7UYWS0pfyl"
      },
      "execution_count": null,
      "outputs": []
    },
    {
      "cell_type": "code",
      "source": [
        "def func(a,b=1,*c,d,e=\"\",**k):\n",
        "  print(k)"
      ],
      "metadata": {
        "id": "uqARLYZRphjN"
      },
      "execution_count": null,
      "outputs": []
    },
    {
      "cell_type": "markdown",
      "source": [
        "# Anonymous function or lambda function"
      ],
      "metadata": {
        "id": "vF00x7j_pkjH"
      }
    },
    {
      "cell_type": "code",
      "source": [
        "lambda a,b: a+b\n",
        "d(2,6)"
      ],
      "metadata": {
        "id": "b3fN6gBUplZL"
      },
      "execution_count": null,
      "outputs": []
    },
    {
      "cell_type": "code",
      "source": [
        "lambda a,b: a+b"
      ],
      "metadata": {
        "id": "hJVEYi6wpn-a"
      },
      "execution_count": null,
      "outputs": []
    },
    {
      "cell_type": "code",
      "source": [
        "sorted([4,8,1,0,7,5])\n"
      ],
      "metadata": {
        "id": "JOTWXXq5prlh"
      },
      "execution_count": null,
      "outputs": []
    },
    {
      "cell_type": "code",
      "source": [
        "\n",
        "a=1\n",
        "b=2\n",
        "c=print(a+b)\n",
        "print(c)\n"
      ],
      "metadata": {
        "id": "d-X218TmpsOC"
      },
      "execution_count": null,
      "outputs": []
    },
    {
      "cell_type": "code",
      "source": [
        "def func(a):\n",
        "  a()\n",
        "func(a=lambda:print(\"hello\"))\n",
        "     "
      ],
      "metadata": {
        "id": "nQtxB9VkpucF"
      },
      "execution_count": null,
      "outputs": []
    }
  ]
}